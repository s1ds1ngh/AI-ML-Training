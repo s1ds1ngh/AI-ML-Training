{
 "cells": [
  {
   "cell_type": "code",
   "execution_count": 9,
   "id": "0c3728af",
   "metadata": {},
   "outputs": [
    {
     "name": "stdout",
     "output_type": "stream",
     "text": [
      "Sid\n"
     ]
    }
   ],
   "source": [
    "print(\"Sid\")"
   ]
  },
  {
   "cell_type": "markdown",
   "id": "ecda6ce9",
   "metadata": {},
   "source": [
    "This is my first time using jupyter notebook as I'm starting my career as a Software Intern in AI/ML field."
   ]
  },
  {
   "cell_type": "markdown",
   "id": "8e0bba28",
   "metadata": {},
   "source": []
  },
  {
   "cell_type": "code",
   "execution_count": null,
   "id": "743483d3",
   "metadata": {},
   "outputs": [],
   "source": []
  },
  {
   "cell_type": "code",
   "execution_count": 10,
   "id": "3642dd73",
   "metadata": {},
   "outputs": [
    {
     "name": "stdout",
     "output_type": "stream",
     "text": [
      "Gaurav\n"
     ]
    }
   ],
   "source": [
    "print(\"Gaurav\")"
   ]
  },
  {
   "cell_type": "code",
   "execution_count": null,
   "id": "c6ef47fb",
   "metadata": {},
   "outputs": [],
   "source": []
  }
 ],
 "metadata": {
  "kernelspec": {
   "display_name": "Python 3 (ipykernel)",
   "language": "python",
   "name": "python3"
  },
  "language_info": {
   "codemirror_mode": {
    "name": "ipython",
    "version": 3
   },
   "file_extension": ".py",
   "mimetype": "text/x-python",
   "name": "python",
   "nbconvert_exporter": "python",
   "pygments_lexer": "ipython3",
   "version": "3.11.5"
  }
 },
 "nbformat": 4,
 "nbformat_minor": 5
}
Siddharth Singh
